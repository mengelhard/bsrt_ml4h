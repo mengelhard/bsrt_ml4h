{
 "cells": [
  {
   "cell_type": "markdown",
   "id": "7676c6fc",
   "metadata": {
    "id": "7676c6fc"
   },
   "source": [
    "# KEY to Activity 2: Visualizing Logistic Regression, from Log-Odds to Probabilities\n",
    "\n",
    "As usual, we begin with a few import statements. We'll be using:\n",
    "- `numpy` for numeric operations and to draw random samples\n",
    "- `pandas` for our dataframe\n",
    "- `sklearn` to fit `LogisticRegression` models\n",
    "- `matplotlib` to plot stuff"
   ]
  },
  {
   "cell_type": "code",
   "execution_count": 1,
   "id": "430ce063",
   "metadata": {
    "id": "430ce063"
   },
   "outputs": [],
   "source": [
    "import numpy as np\n",
    "import pandas as pd\n",
    "from sklearn.linear_model import LogisticRegression\n",
    "import matplotlib.pyplot as plt"
   ]
  },
  {
   "cell_type": "markdown",
   "id": "5c4457d5",
   "metadata": {
    "id": "5c4457d5"
   },
   "source": [
    "# Let's generate a simple toy dataset\n",
    "\n",
    "Don't worry about the details here. The goal is to explore the relationship between these variables over the course of the exercise.\n",
    "\n",
    "- features male_sex (binary) and age (numeric)\n",
    "- outcome high blood pressure ('hbp')"
   ]
  },
  {
   "cell_type": "code",
   "execution_count": 2,
   "id": "362282d1",
   "metadata": {
    "colab": {
     "base_uri": "https://localhost:8080/",
     "height": 359
    },
    "id": "362282d1",
    "outputId": "bfee1364-0739-4351-fdbb-2ad7148f101d"
   },
   "outputs": [
    {
     "data": {
      "text/html": [
       "<div>\n",
       "<style scoped>\n",
       "    .dataframe tbody tr th:only-of-type {\n",
       "        vertical-align: middle;\n",
       "    }\n",
       "\n",
       "    .dataframe tbody tr th {\n",
       "        vertical-align: top;\n",
       "    }\n",
       "\n",
       "    .dataframe thead th {\n",
       "        text-align: right;\n",
       "    }\n",
       "</style>\n",
       "<table border=\"1\" class=\"dataframe\">\n",
       "  <thead>\n",
       "    <tr style=\"text-align: right;\">\n",
       "      <th></th>\n",
       "      <th>male_sex</th>\n",
       "      <th>age</th>\n",
       "      <th>hbp</th>\n",
       "    </tr>\n",
       "  </thead>\n",
       "  <tbody>\n",
       "    <tr>\n",
       "      <th>0</th>\n",
       "      <td>False</td>\n",
       "      <td>70.665837</td>\n",
       "      <td>False</td>\n",
       "    </tr>\n",
       "    <tr>\n",
       "      <th>1</th>\n",
       "      <td>True</td>\n",
       "      <td>17.970640</td>\n",
       "      <td>False</td>\n",
       "    </tr>\n",
       "    <tr>\n",
       "      <th>2</th>\n",
       "      <td>False</td>\n",
       "      <td>46.281099</td>\n",
       "      <td>True</td>\n",
       "    </tr>\n",
       "    <tr>\n",
       "      <th>3</th>\n",
       "      <td>False</td>\n",
       "      <td>53.317311</td>\n",
       "      <td>True</td>\n",
       "    </tr>\n",
       "    <tr>\n",
       "      <th>4</th>\n",
       "      <td>False</td>\n",
       "      <td>4.180537</td>\n",
       "      <td>True</td>\n",
       "    </tr>\n",
       "    <tr>\n",
       "      <th>5</th>\n",
       "      <td>True</td>\n",
       "      <td>54.679037</td>\n",
       "      <td>False</td>\n",
       "    </tr>\n",
       "    <tr>\n",
       "      <th>6</th>\n",
       "      <td>False</td>\n",
       "      <td>15.347171</td>\n",
       "      <td>False</td>\n",
       "    </tr>\n",
       "    <tr>\n",
       "      <th>7</th>\n",
       "      <td>False</td>\n",
       "      <td>5.854643</td>\n",
       "      <td>False</td>\n",
       "    </tr>\n",
       "    <tr>\n",
       "      <th>8</th>\n",
       "      <td>False</td>\n",
       "      <td>85.399698</td>\n",
       "      <td>True</td>\n",
       "    </tr>\n",
       "    <tr>\n",
       "      <th>9</th>\n",
       "      <td>True</td>\n",
       "      <td>86.906883</td>\n",
       "      <td>True</td>\n",
       "    </tr>\n",
       "  </tbody>\n",
       "</table>\n",
       "</div>"
      ],
      "text/plain": [
       "   male_sex        age    hbp\n",
       "0     False  70.665837  False\n",
       "1      True  17.970640  False\n",
       "2     False  46.281099   True\n",
       "3     False  53.317311   True\n",
       "4     False   4.180537   True\n",
       "5      True  54.679037  False\n",
       "6     False  15.347171  False\n",
       "7     False   5.854643  False\n",
       "8     False  85.399698   True\n",
       "9      True  86.906883   True"
      ]
     },
     "execution_count": 2,
     "metadata": {},
     "output_type": "execute_result"
    }
   ],
   "source": [
    "rs = np.random.RandomState(42)\n",
    "\n",
    "df = pd.DataFrame({\n",
    "    'male_sex': rs.randint(0, 2, 50) == 1,\n",
    "    'age': rs.rand(50) * 90,\n",
    "})\n",
    "\n",
    "df['hbp'] = (1 / (1 + np.exp(1.5 - df['male_sex'] - df['age'] / 50))) > rs.rand(50)\n",
    "\n",
    "df.head(10)"
   ]
  },
  {
   "cell_type": "markdown",
   "id": "23cc5982",
   "metadata": {
    "id": "23cc5982"
   },
   "source": [
    "# Let's explore the relationship between sex and HBP risk\n",
    "\n",
    "## Exploration 1, Part 1\n",
    "\n",
    "Consider (a) female patients (`df[~df['male_sex']]`) and (b) male patients (`df[df['male_sex']]`).\n",
    "- what are the odds of high blood pressure in each group?\n",
    "- what are the log odds of high blood pressure in each group?\n",
    "- what is the difference in log odds between groups?\n",
    "- what is the odds ratio between groups?\n",
    "- what is the log odds ratio between groups?\n",
    "\n",
    "**Use the block(s) below to calculate these quantities. Create more blocks if/as needed.**"
   ]
  },
  {
   "cell_type": "code",
   "execution_count": 3,
   "id": "0f740ce7",
   "metadata": {
    "colab": {
     "base_uri": "https://localhost:8080/",
     "height": 142
    },
    "id": "0f740ce7",
    "outputId": "d9f36d30-8e60-423c-8295-264f1208c239"
   },
   "outputs": [
    {
     "data": {
      "text/html": [
       "<div>\n",
       "<style scoped>\n",
       "    .dataframe tbody tr th:only-of-type {\n",
       "        vertical-align: middle;\n",
       "    }\n",
       "\n",
       "    .dataframe tbody tr th {\n",
       "        vertical-align: top;\n",
       "    }\n",
       "\n",
       "    .dataframe thead th {\n",
       "        text-align: right;\n",
       "    }\n",
       "</style>\n",
       "<table border=\"1\" class=\"dataframe\">\n",
       "  <thead>\n",
       "    <tr style=\"text-align: right;\">\n",
       "      <th>hbp</th>\n",
       "      <th>False</th>\n",
       "      <th>True</th>\n",
       "    </tr>\n",
       "    <tr>\n",
       "      <th>male_sex</th>\n",
       "      <th></th>\n",
       "      <th></th>\n",
       "    </tr>\n",
       "  </thead>\n",
       "  <tbody>\n",
       "    <tr>\n",
       "      <th>False</th>\n",
       "      <td>15</td>\n",
       "      <td>8</td>\n",
       "    </tr>\n",
       "    <tr>\n",
       "      <th>True</th>\n",
       "      <td>9</td>\n",
       "      <td>18</td>\n",
       "    </tr>\n",
       "  </tbody>\n",
       "</table>\n",
       "</div>"
      ],
      "text/plain": [
       "hbp       False  True\n",
       "male_sex             \n",
       "False        15     8\n",
       "True          9    18"
      ]
     },
     "execution_count": 3,
     "metadata": {},
     "output_type": "execute_result"
    }
   ],
   "source": [
    "# cross-tabulate male_sex with high blood pressure\n",
    "contingency_table = pd.crosstab(df['male_sex'], df['hbp'])\n",
    "contingency_table"
   ]
  },
  {
   "cell_type": "code",
   "execution_count": 4,
   "id": "A8TRFtYujTt5",
   "metadata": {
    "colab": {
     "base_uri": "https://localhost:8080/"
    },
    "id": "A8TRFtYujTt5",
    "outputId": "172d77fe-7052-446f-fccf-2fa4b1a9d3ae"
   },
   "outputs": [
    {
     "data": {
      "text/plain": [
       "(2.0, 0.5333333333333333)"
      ]
     },
     "execution_count": 4,
     "metadata": {},
     "output_type": "execute_result"
    }
   ],
   "source": [
    "# for each sex, divide the number of HBP cases by the number of non-HBP cases to get the odds relative to 1\n",
    "odds_male = 18 / 9\n",
    "odds_female = 8 / 15\n",
    "\n",
    "odds_male, odds_female"
   ]
  },
  {
   "cell_type": "code",
   "execution_count": 7,
   "id": "dfdaa4a8",
   "metadata": {},
   "outputs": [],
   "source": [
    "odds_ratio = odds_male / odds_female"
   ]
  },
  {
   "cell_type": "code",
   "execution_count": 5,
   "id": "q2dQGolsnwMQ",
   "metadata": {
    "colab": {
     "base_uri": "https://localhost:8080/"
    },
    "id": "q2dQGolsnwMQ",
    "outputId": "f1147651-ffd5-4837-fc95-b202653d42a2"
   },
   "outputs": [
    {
     "data": {
      "text/plain": [
       "(0.6931471805599453, -0.6286086594223742)"
      ]
     },
     "execution_count": 5,
     "metadata": {},
     "output_type": "execute_result"
    }
   ],
   "source": [
    "# convert the odds (relative to 1) to log-odds (relative to log(1) = 0)\n",
    "log_odds_male = np.log(odds_male)\n",
    "log_odds_female = np.log(odds_female)\n",
    "\n",
    "log_odds_male, log_odds_female"
   ]
  },
  {
   "cell_type": "code",
   "execution_count": 6,
   "id": "RHvmK-OKn8DJ",
   "metadata": {
    "colab": {
     "base_uri": "https://localhost:8080/"
    },
    "id": "RHvmK-OKn8DJ",
    "outputId": "6a985217-7f80-4ca9-aa63-92b8d03967e1"
   },
   "outputs": [
    {
     "data": {
      "text/plain": [
       "1.3217558399823195"
      ]
     },
     "execution_count": 6,
     "metadata": {},
     "output_type": "execute_result"
    }
   ],
   "source": [
    "# take the difference in log-odds between males and females\n",
    "difference_in_log_odds = log_odds_male - log_odds_female\n",
    "difference_in_log_odds"
   ]
  },
  {
   "cell_type": "code",
   "execution_count": 8,
   "id": "f6912818",
   "metadata": {},
   "outputs": [
    {
     "data": {
      "text/plain": [
       "1.3217558399823195"
      ]
     },
     "execution_count": 8,
     "metadata": {},
     "output_type": "execute_result"
    }
   ],
   "source": [
    "log_odds_ratio = np.log(odds_ratio)\n",
    "log_odds_ratio"
   ]
  },
  {
   "cell_type": "markdown",
   "id": "9a47cbaf",
   "metadata": {
    "id": "9a47cbaf"
   },
   "source": [
    "## Exploration 1, Part 2\n",
    "\n",
    "Let's use scikit-learn to quickly fit a logistic regression model to these (training) data. We can then look at the intercept and coefficient associated with male sex in the fitted model. **How do these quantities relate to the values you calculated previously?**"
   ]
  },
  {
   "cell_type": "code",
   "execution_count": 15,
   "id": "449612ab",
   "metadata": {
    "colab": {
     "base_uri": "https://localhost:8080/"
    },
    "id": "449612ab",
    "outputId": "c6928480-7551-44cc-acf5-d2de7777db57"
   },
   "outputs": [
    {
     "name": "stdout",
     "output_type": "stream",
     "text": [
      "The intercept is -0.629\n",
      "The coefficient associated with male sex is 1.322\n"
     ]
    }
   ],
   "source": [
    "mdl = LogisticRegression(penalty='none').fit(df[['male_sex']], df['hbp'])\n",
    "\n",
    "print('The intercept is %.3f' % mdl.intercept_)\n",
    "print('The coefficient associated with male sex is %.3f' % mdl.coef_)"
   ]
  },
  {
   "cell_type": "markdown",
   "id": "3a9a434e",
   "metadata": {
    "id": "3a9a434e"
   },
   "source": [
    "## Exploration 2, Part 1\n",
    "\n",
    "Let's now consider the relationship between blood pressure and age.\n",
    "- This time we'll *start* by fitting a logistic regression model\n",
    "- Then we'll use the model coefficients directly to plot the predicted log-odds of high blood pressure by age"
   ]
  },
  {
   "cell_type": "code",
   "execution_count": 16,
   "id": "f17db02b",
   "metadata": {
    "colab": {
     "base_uri": "https://localhost:8080/",
     "height": 299
    },
    "id": "f17db02b",
    "outputId": "65e778c7-2b68-4c77-a315-1c3db2b04e87"
   },
   "outputs": [
    {
     "name": "stdout",
     "output_type": "stream",
     "text": [
      "The intercept is -1.457\n",
      "The coefficient associated with age is 0.036\n"
     ]
    },
    {
     "data": {
      "image/png": "[encoded data removed]",
      "text/plain": [
       "<Figure size 432x288 with 1 Axes>"
      ]
     },
     "metadata": {
      "needs_background": "light"
     },
     "output_type": "display_data"
    }
   ],
   "source": [
    "mdl = LogisticRegression(penalty='none').fit(df[['age']], df['hbp'])\n",
    "\n",
    "intercept = mdl.intercept_[0]\n",
    "age_coefficient = mdl.coef_[0][0]\n",
    "\n",
    "print('The intercept is %.3f' % intercept)\n",
    "print('The coefficient associated with age is %.3f' % age_coefficient)\n",
    "\n",
    "age = np.arange(90)\n",
    "log_odds = intercept + age_coefficient * age\n",
    "\n",
    "plt.scatter(df['age'], df['hbp'])\n",
    "plt.plot(age, log_odds)\n",
    "plt.show()"
   ]
  },
  {
   "cell_type": "markdown",
   "id": "15b65f1a",
   "metadata": {
    "id": "15b65f1a"
   },
   "source": [
    "## Exploration 2, Part 2\n",
    "\n",
    "We'll complete the exploration by taking a look at two more plots:\n",
    "- predicted odds of high blood pressure by age\n",
    "- predicted probability of high blood pressure by age\n",
    "\n",
    "**Use the block(s) below to create these plots. Create more blocks if/as needed.**"
   ]
  },
  {
   "cell_type": "code",
   "execution_count": 17,
   "id": "0d202f7e",
   "metadata": {
    "colab": {
     "base_uri": "https://localhost:8080/",
     "height": 265
    },
    "id": "0d202f7e",
    "outputId": "625d529c-1fb7-4aed-d902-2c367a344603"
   },
   "outputs": [
    {
     "data": {
      "image/png": "[encoded data removed]",
      "text/plain": [
       "<Figure size 432x288 with 1 Axes>"
      ]
     },
     "metadata": {
      "needs_background": "light"
     },
     "output_type": "display_data"
    }
   ],
   "source": [
    "plt.plot(age, np.exp(log_odds))\n",
    "plt.show()"
   ]
  },
  {
   "cell_type": "code",
   "execution_count": 18,
   "id": "fyp3b60ipd8x",
   "metadata": {
    "colab": {
     "base_uri": "https://localhost:8080/",
     "height": 265
    },
    "id": "fyp3b60ipd8x",
    "outputId": "b36fb085-eb93-4a57-a7b0-9860dcd14782"
   },
   "outputs": [
    {
     "data": {
      "image/png": "[encoded data removed]",
      "text/plain": [
       "<Figure size 432x288 with 1 Axes>"
      ]
     },
     "metadata": {
      "needs_background": "light"
     },
     "output_type": "display_data"
    }
   ],
   "source": [
    "plt.scatter(df['age'], df['hbp'])\n",
    "plt.plot(age, np.exp(log_odds) / (1 + np.exp(log_odds)))\n",
    "plt.show()"
   ]
  },
  {
   "cell_type": "code",
   "execution_count": null,
   "id": "_6kAnzq9pj8-",
   "metadata": {
    "id": "_6kAnzq9pj8-"
   },
   "outputs": [],
   "source": []
  }
 ],
 "metadata": {
  "colab": {
   "provenance": []
  },
  "kernelspec": {
   "display_name": "Python 3 (ipykernel)",
   "language": "python",
   "name": "python3"
  },
  "language_info": {
   "codemirror_mode": {
    "name": "ipython",
    "version": 3
   },
   "file_extension": ".py",
   "mimetype": "text/x-python",
   "name": "python",
   "nbconvert_exporter": "python",
   "pygments_lexer": "ipython3",
   "version": "3.9.6"
  }
 },
 "nbformat": 4,
 "nbformat_minor": 5
}
