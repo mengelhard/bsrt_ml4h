{
 "cells": [
  {
   "cell_type": "code",
   "execution_count": 1,
   "id": "56b17046",
   "metadata": {},
   "outputs": [],
   "source": [
    "import numpy as np\n",
    "import pandas as pd\n",
    "import tensorflow as tf"
   ]
  },
  {
   "cell_type": "code",
   "execution_count": 12,
   "id": "484dc478",
   "metadata": {},
   "outputs": [],
   "source": [
    "x_train = pd.read_table(\n",
    "    '/Users/mme4/Downloads/UCI HAR Dataset/train/X_train.txt',\n",
    "    header=None, sep='\\s+').values"
   ]
  },
  {
   "cell_type": "code",
   "execution_count": 13,
   "id": "6b0e74fa",
   "metadata": {},
   "outputs": [],
   "source": [
    "x_test = pd.read_table(\n",
    "    '/Users/mme4/Downloads/UCI HAR Dataset/test/X_test.txt',\n",
    "    header=None, sep='\\s+').values"
   ]
  },
  {
   "cell_type": "code",
   "execution_count": 15,
   "id": "7e7713be",
   "metadata": {},
   "outputs": [],
   "source": [
    "y_train = pd.read_table(\n",
    "    '/Users/mme4/Downloads/UCI HAR Dataset/train/y_train.txt',\n",
    "    header=None, squeeze=True\n",
    ").values"
   ]
  },
  {
   "cell_type": "code",
   "execution_count": 16,
   "id": "2b307433",
   "metadata": {},
   "outputs": [],
   "source": [
    "y_test = pd.read_table(\n",
    "    '/Users/mme4/Downloads/UCI HAR Dataset/test/y_test.txt',\n",
    "    header=None, squeeze=True\n",
    ").values"
   ]
  },
  {
   "cell_type": "code",
   "execution_count": 18,
   "id": "9cfe472c",
   "metadata": {},
   "outputs": [
    {
     "data": {
      "text/plain": [
       "((7352, 561), (7352,), (2947, 561), (2947,))"
      ]
     },
     "execution_count": 18,
     "metadata": {},
     "output_type": "execute_result"
    }
   ],
   "source": [
    "x_train.shape, y_train.shape, x_test.shape, y_test.shape"
   ]
  },
  {
   "cell_type": "code",
   "execution_count": 28,
   "id": "73876d84",
   "metadata": {},
   "outputs": [
    {
     "data": {
      "text/plain": [
       "6    537\n",
       "5    532\n",
       "1    496\n",
       "4    491\n",
       "2    471\n",
       "3    420\n",
       "dtype: int64"
      ]
     },
     "execution_count": 28,
     "metadata": {},
     "output_type": "execute_result"
    }
   ],
   "source": [
    "pd.value_counts(y_test)"
   ]
  },
  {
   "cell_type": "code",
   "execution_count": 21,
   "id": "c61ece6f",
   "metadata": {},
   "outputs": [],
   "source": [
    "from sklearn.linear_model import LogisticRegression"
   ]
  },
  {
   "cell_type": "code",
   "execution_count": 22,
   "id": "9b71f5d1",
   "metadata": {},
   "outputs": [],
   "source": [
    "xtr = np.stack(\n",
    "    [\n",
    "        x_train.std(axis=1),\n",
    "        x_train.mean(axis=1),\n",
    "        x_train.min(axis=1),\n",
    "        x_train.max(axis=1)\n",
    "    ]\n",
    ").T"
   ]
  },
  {
   "cell_type": "code",
   "execution_count": 23,
   "id": "957e7ae9",
   "metadata": {},
   "outputs": [],
   "source": [
    "xte = np.stack(\n",
    "    [\n",
    "        x_test.std(axis=1),\n",
    "        x_test.mean(axis=1),\n",
    "        x_test.min(axis=1),\n",
    "        x_test.max(axis=1)\n",
    "    ]\n",
    ").T"
   ]
  },
  {
   "cell_type": "code",
   "execution_count": 27,
   "id": "3a434969",
   "metadata": {},
   "outputs": [
    {
     "name": "stdout",
     "output_type": "stream",
     "text": [
      "The accuracy is 0.503902273498473\n"
     ]
    }
   ],
   "source": [
    "lr_model = LogisticRegression(max_iter=10000)\n",
    "lr_model.fit(xtr, y_train)\n",
    "\n",
    "y_pred = lr_model.predict(xte)\n",
    "print('The accuracy is', np.mean(y_pred == y_test))"
   ]
  },
  {
   "cell_type": "code",
   "execution_count": null,
   "id": "a153deed",
   "metadata": {},
   "outputs": [],
   "source": []
  }
 ],
 "metadata": {
  "kernelspec": {
   "display_name": "Python 3 (ipykernel)",
   "language": "python",
   "name": "python3"
  },
  "language_info": {
   "codemirror_mode": {
    "name": "ipython",
    "version": 3
   },
   "file_extension": ".py",
   "mimetype": "text/x-python",
   "name": "python",
   "nbconvert_exporter": "python",
   "pygments_lexer": "ipython3",
   "version": "3.8.12"
  }
 },
 "nbformat": 4,
 "nbformat_minor": 5
}
