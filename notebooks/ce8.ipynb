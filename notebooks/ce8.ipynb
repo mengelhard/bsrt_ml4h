{
 "cells": [
  {
   "cell_type": "markdown",
   "metadata": {},
   "source": [
    "# (NOT COMPLETE) Computational Exercise 8: Text Pre-Processing\n",
    "\n",
    "**Please note that (optionally) this exercise may be completed in groups of 2 students.**\n",
    "\n",
    "---\n",
    "In this exercise, we'll convert sections of medical abstracts (e.g. background, methods, etc) into feature vectors that we'll use in a subsequent exercise to develop and test a predictive model.\n",
    "\n",
    "Goals of the exercise are as follows:\n",
    "\n",
    "- See how raw text data is pre-processed to prepare it for modeling\n",
    "- Further improve your understanding of count-based text features\n",
    "\n",
    "We'll begin by importing the usual libraries as well as a new one, the **natural language toolkit (nltk)**, which will help us preprocess our text data:\n",
    "\n",
    "- numpy for efficient math operations\n",
    "- pandas for data and dataframe manipulations\n",
    "- matplotlib for visualization/plotting\n",
    "- **nltk for text pre-processing**\n",
    "- requests to load data from url"
   ]
  },
  {
   "cell_type": "code",
   "execution_count": 4,
   "metadata": {},
   "outputs": [
    {
     "name": "stdout",
     "output_type": "stream",
     "text": [
      "Requirement already satisfied: nltk in /Users/mme/miniforge3/lib/python3.9/site-packages (3.6.5)\r\n",
      "Requirement already satisfied: joblib in /Users/mme/miniforge3/lib/python3.9/site-packages (from nltk) (1.0.1)\r\n",
      "Requirement already satisfied: click in /Users/mme/miniforge3/lib/python3.9/site-packages (from nltk) (8.0.3)\r\n",
      "Requirement already satisfied: tqdm in /Users/mme/miniforge3/lib/python3.9/site-packages (from nltk) (4.61.2)\r\n",
      "Requirement already satisfied: regex>=2021.8.3 in /Users/mme/miniforge3/lib/python3.9/site-packages (from nltk) (2021.10.23)\r\n"
     ]
    }
   ],
   "source": [
    "import numpy as np\n",
    "import pandas as pd\n",
    "import matplotlib.pyplot as plt\n",
    "import requests\n",
    "\n",
    "!pip install nltk\n",
    "import nltk"
   ]
  },
  {
   "cell_type": "markdown",
   "metadata": {},
   "source": [
    "We'll be working with the \"PubMed 200k RCT dataset\" dataset developed by Franck Dernoncourt. This dataset contains sentences found in Pubmed abstracts labeled as:\n",
    "\n",
    "- OBJECTIVE\n",
    "- BACKGROUND\n",
    "- METHODS\n",
    "- RESULTS\n",
    "- CONCLUSIONS\n",
    "\n",
    "Our goal is to develop a classifier that assigns sentences to the correct label. This is not a very useful classifier, but shows that natural language processing is effective even for text with complex terminology, including clinical notes. The training, validation, and test data are found at the following addresses:"
   ]
  },
  {
   "cell_type": "code",
   "execution_count": 1,
   "metadata": {},
   "outputs": [],
   "source": [
    "train_url = 'https://github.com/Franck-Dernoncourt/pubmed-rct/raw/master/PubMed_20k_RCT/train.txt?raw=true'\n",
    "val_url = 'https://github.com/Franck-Dernoncourt/pubmed-rct/raw/master/PubMed_20k_RCT/dev.txt?raw=true'\n",
    "test_url = 'https://github.com/Franck-Dernoncourt/pubmed-rct/raw/master/PubMed_20k_RCT/test.txt?raw=true'"
   ]
  },
  {
   "cell_type": "markdown",
   "metadata": {},
   "source": [
    "We'll define a function to read these data. **The details here are *not* important to our goals;** we just need the data. For now, we'll load only the training data (as `sentences` and `labels`), but in later exercises, we'll reuse these addresses and the function below to load the validation and test sets as well."
   ]
  },
  {
   "cell_type": "code",
   "execution_count": 5,
   "metadata": {},
   "outputs": [
    {
     "name": "stdout",
     "output_type": "stream",
     "text": [
      "There are 180040 sentences in the training set\n"
     ]
    }
   ],
   "source": [
    "import requests\n",
    "\n",
    "def read_pubmed_rct(url):\n",
    "\n",
    "    labels = []\n",
    "    sentences = []\n",
    "    \n",
    "    with requests.get(url) as r:\n",
    "        for line in r.iter_lines():\n",
    "            fields = line.decode('utf-8').strip().split('\\t')\n",
    "            if len(fields) == 2:\n",
    "                labels.append(fields[0])\n",
    "                sentences.append(fields[1])\n",
    "                \n",
    "    return sentences, labels\n",
    "\n",
    "sentences, labels = read_pubmed_rct(train_url)\n",
    "\n",
    "print('There are %i sentences in the training set' % len(sentences))"
   ]
  },
  {
   "cell_type": "markdown",
   "metadata": {},
   "source": [
    "Now let's take a look at the labels in the training set:"
   ]
  },
  {
   "cell_type": "code",
   "execution_count": 17,
   "metadata": {},
   "outputs": [
    {
     "data": {
      "image/png": "[encoded data removed]",
      "text/plain": [
       "<Figure size 864x432 with 1 Axes>"
      ]
     },
     "metadata": {
      "needs_background": "light"
     },
     "output_type": "display_data"
    }
   ],
   "source": [
    "lbl, count = np.unique(labels, return_counts=True)\n",
    "plt.figure(figsize=(12, 6))\n",
    "plt.bar(np.arange(5), count)\n",
    "plt.xticks(np.arange(5), lbl, fontsize=16)\n",
    "plt.ylabel('Label Count', fontsize=16)\n",
    "plt.show()"
   ]
  },
  {
   "cell_type": "code",
   "execution_count": 21,
   "metadata": {},
   "outputs": [
    {
     "name": "stderr",
     "output_type": "stream",
     "text": [
      "[nltk_data] Downloading package punkt to /Users/mme/nltk_data...\n",
      "[nltk_data]   Unzipping tokenizers/punkt.zip.\n",
      "[nltk_data] Downloading package stopwords to /Users/mme/nltk_data...\n",
      "[nltk_data]   Unzipping corpora/stopwords.zip.\n"
     ]
    }
   ],
   "source": [
    "from nltk.tokenize import word_tokenize\n",
    "from nltk.corpus import stopwords\n",
    "\n",
    "nltk.download('punkt')\n",
    "nltk.download('stopwords')\n",
    "stop_words = set(stopwords.words('english'))"
   ]
  },
  {
   "cell_type": "code",
   "execution_count": 22,
   "metadata": {},
   "outputs": [
    {
     "data": {
      "text/plain": [
       "['To',\n",
       " 'investigate',\n",
       " 'the',\n",
       " 'efficacy',\n",
       " 'of',\n",
       " '6',\n",
       " 'weeks',\n",
       " 'of',\n",
       " 'daily',\n",
       " 'low-dose',\n",
       " 'oral',\n",
       " 'prednisolone',\n",
       " 'in',\n",
       " 'improving',\n",
       " 'pain',\n",
       " ',',\n",
       " 'mobility',\n",
       " ',',\n",
       " 'and',\n",
       " 'systemic',\n",
       " 'low-grade',\n",
       " 'inflammation',\n",
       " 'in',\n",
       " 'the',\n",
       " 'short',\n",
       " 'term',\n",
       " 'and',\n",
       " 'whether',\n",
       " 'the',\n",
       " 'effect',\n",
       " 'would',\n",
       " 'be',\n",
       " 'sustained',\n",
       " 'at',\n",
       " '12',\n",
       " 'weeks',\n",
       " 'in',\n",
       " 'older',\n",
       " 'adults',\n",
       " 'with',\n",
       " 'moderate',\n",
       " 'to',\n",
       " 'severe',\n",
       " 'knee',\n",
       " 'osteoarthritis',\n",
       " '(',\n",
       " 'OA',\n",
       " ')',\n",
       " '.']"
      ]
     },
     "execution_count": 22,
     "metadata": {},
     "output_type": "execute_result"
    }
   ],
   "source": [
    "word_tokenize(sentences[0])"
   ]
  },
  {
   "cell_type": "code",
   "execution_count": 26,
   "metadata": {},
   "outputs": [],
   "source": [
    "def process_sentence(sentence):\n",
    "    word_list = word_tokenize(sentence)\n",
    "    word_list = [w.lower() for w in word_list if w.isalpha()]\n",
    "    return [w for w in word_list if w not in stop_words]"
   ]
  },
  {
   "cell_type": "code",
   "execution_count": 25,
   "metadata": {},
   "outputs": [
    {
     "data": {
      "text/plain": [
       "['investigate',\n",
       " 'efficacy',\n",
       " 'weeks',\n",
       " 'daily',\n",
       " 'oral',\n",
       " 'prednisolone',\n",
       " 'improving',\n",
       " 'pain',\n",
       " 'mobility',\n",
       " 'systemic',\n",
       " 'inflammation',\n",
       " 'short',\n",
       " 'term',\n",
       " 'whether',\n",
       " 'effect',\n",
       " 'would',\n",
       " 'sustained',\n",
       " 'weeks',\n",
       " 'older',\n",
       " 'adults',\n",
       " 'moderate',\n",
       " 'severe',\n",
       " 'knee',\n",
       " 'osteoarthritis',\n",
       " 'oa']"
      ]
     },
     "execution_count": 25,
     "metadata": {},
     "output_type": "execute_result"
    }
   ],
   "source": [
    "process_sentence(sentences[0])"
   ]
  },
  {
   "cell_type": "markdown",
   "metadata": {},
   "source": [
    "Exercise 1: create the vocabulary using np.unique (take a look at common and uncommon words)\n",
    "Exercise 2: "
   ]
  },
  {
   "cell_type": "markdown",
   "metadata": {},
   "source": [
    "As we move toward a classification model, we'll need to convert all of our labels to numbers that we can give to our classifier. Let's make sure to number them in the order we'd expect:\n",
    "\n",
    "1. BACKGROUND\n",
    "2. OBJECTIVE\n",
    "3. METHODS\n",
    "4. RESULTS\n",
    "5. CONCLUSIONS\n",
    "\n",
    "We'll do this using the dictionary `label_dict`."
   ]
  },
  {
   "cell_type": "code",
   "execution_count": 5,
   "metadata": {},
   "outputs": [],
   "source": [
    "label_dict = {'BACKGROUND': 0, 'OBJECTIVE': 1, 'METHODS': 2, 'RESULTS': 3, 'CONCLUSIONS': 4}\n",
    "\n",
    "def labels_to_indices(labels):\n",
    "    return np.array([label_dict[l] for l in labels])\n",
    "\n",
    "y_train = labels_to_indices(l_train)\n",
    "y_val = labels_to_indices(l_val)\n",
    "y_test = labels_to_indices(l_test)"
   ]
  },
  {
   "cell_type": "markdown",
   "metadata": {},
   "source": [
    "## Pre-Processing\n",
    "\n",
    "Now let's start preparing our sentences for modeling. We'll use a very simple preprocessing pipline that:\n",
    "\n",
    "1. tokenizes the sentence, which primarily involves splitting the sentence based on spaces. Here we're using NLTK's `word_tokenize()` function.\n",
    "1. removes stop words (e.g. 'a', 'the')\n",
    "2. removes tokens with non-alphabetical characters (via `word.isalpha()`)\n",
    "3. converts words to lowercase (via `word.lower()`)\n",
    "\n",
    "We can run the whole pipeline on the sentence `test_sentence` by calling `tokenize(test_sentence)`. Take a moment to explore different test sentences and check the result!"
   ]
  },
  {
   "cell_type": "code",
   "execution_count": 6,
   "metadata": {},
   "outputs": [
    {
     "name": "stdout",
     "output_type": "stream",
     "text": [
      "Sentence:\n",
      "Here's a sentence we'd like to tokenize.\n",
      "\n",
      "Tokenized Sentence:\n",
      "['sentence', 'like', 'tokenize']\n"
     ]
    }
   ],
   "source": [
    "def tokenize(sentence):\n",
    "    return [w.lower() for w in word_tokenize(sentence) if ((not w.lower() in stop_words) and w.isalpha())]\n",
    "\n",
    "test_sentence = 'Here\\'s a sentence we\\'d like to tokenize.'\n",
    "\n",
    "print('Sentence:')\n",
    "print(test_sentence)\n",
    "print('\\nTokenized Sentence:')\n",
    "print(tokenize(test_sentence))"
   ]
  },
  {
   "cell_type": "markdown",
   "metadata": {},
   "source": [
    "Note that *a*, *we'd*, and *to* have been removed. This is because they're not very useful for the purpose of classifying the text. If we're satisfied our preprocessing is working as intended, we can apply it to all of the sentences in our training, validation, and test sets. This might take a few moments."
   ]
  },
  {
   "cell_type": "code",
   "execution_count": 7,
   "metadata": {},
   "outputs": [],
   "source": [
    "tokens_train = [tokenize(s) for s in s_train]\n",
    "tokens_val = [tokenize(s) for s in s_val]\n",
    "tokens_test = [tokenize(s) for s in s_test]"
   ]
  },
  {
   "cell_type": "markdown",
   "metadata": {},
   "source": [
    "Now, let's define our vocabulary (as `vocab`) based on the words we encounter in our training set. Currently, we're only including words in our vocabulary if we see them at least 100 times (specified via `min_word_count = 100`). Let's leave it this way for now, but you may want to revisit this choice later in the exercise."
   ]
  },
  {
   "cell_type": "code",
   "execution_count": 8,
   "metadata": {},
   "outputs": [
    {
     "name": "stdout",
     "output_type": "stream",
     "text": [
      "Obtained 2948 vocabulary words. Here are the first 50:\n",
      "\n",
      "['aa' 'abdominal' 'ability' 'ablation' 'able' 'abnormal' 'abnormalities'\n",
      " 'absence' 'absolute' 'absorption' 'abstinence' 'abuse' 'academic'\n",
      " 'acceptability' 'acceptable' 'acceptance' 'accepted' 'access'\n",
      " 'accompanied' 'according' 'account' 'accuracy' 'accurate' 'acetaminophen'\n",
      " 'acetate' 'achieve' 'achieved' 'achievement' 'achieving' 'acid' 'acids'\n",
      " 'acl' 'acquired' 'acquisition' 'across' 'acs' 'act' 'action' 'activation'\n",
      " 'active' 'activities' 'activity' 'actual' 'acuity' 'acupoint' 'acupoints'\n",
      " 'acupuncture' 'acute' 'ad' 'adalimumab']\n",
      "\n",
      "And here are the last 50:\n",
      "\n",
      "['washout' 'water' 'wave' 'way' 'website' 'week' 'weekly' 'weeks' 'weight'\n",
      " 'well' 'western' 'whereas' 'whether' 'white' 'whole' 'whose' 'wide'\n",
      " 'widely' 'width' 'wilcoxon' 'withdrawal' 'within' 'without' 'wk' 'women'\n",
      " 'work' 'workers' 'working' 'world' 'worldwide' 'worse' 'worsening'\n",
      " 'would' 'wound' 'wrist' 'written' 'x' 'year' 'years' 'yet' 'yield'\n",
      " 'yielded' 'yoga' 'young' 'younger' 'youth' 'yr' 'z' 'zealand' 'zinc']\n"
     ]
    }
   ],
   "source": [
    "min_word_count = 100\n",
    "\n",
    "words, counts = np.unique([word for tokens in tokens_train for word in tokens], return_counts=True)\n",
    "vocab = words[counts > min_word_count]\n",
    "vocab_dict = {word:idx for idx, word in enumerate(vocab)}\n",
    "\n",
    "print('Obtained %i vocabulary words. Here are the first 50:\\n' % len(vocab))\n",
    "print(vocab[:50])\n",
    "print('\\nAnd here are the last 50:\\n')\n",
    "print(vocab[-50:])"
   ]
  },
  {
   "cell_type": "markdown",
   "metadata": {},
   "source": [
    "Having defined our vocabulary, we can now count vocabulary words in each sentence of our data. Once this is done, we'll be just about ready to build our first model. The `word_counts()` function below will take our training dataset and vocabulary and return an $N \\times V$ matrix of counts, where $N$ is the number of sentences, and $V$ is the size of our vocabulary. When we encounter vocabulary word $j$ in sentence $i$, we increment the $\\{i, j\\}^{th}$ element of the counts matrix by one."
   ]
  },
  {
   "cell_type": "code",
   "execution_count": 9,
   "metadata": {},
   "outputs": [],
   "source": [
    "def word_counts(tokens_list, vocab_dict):   \n",
    "    vocab_words = vocab_dict.keys()\n",
    "    counts = np.zeros((len(tokens_list), len(vocab_words)))\n",
    "    for idx, tokens in enumerate(tokens_list):\n",
    "        for token in tokens:\n",
    "            if token in vocab_words:\n",
    "                counts[idx, vocab_dict[token]] += 1\n",
    "    return counts\n",
    "\n",
    "counts_train = word_counts(tokens_train, vocab_dict).astype(np.float16)\n",
    "counts_val = word_counts(tokens_val, vocab_dict).astype(np.float16)\n",
    "counts_test = word_counts(tokens_test, vocab_dict).astype(np.float16)"
   ]
  },
  {
   "cell_type": "markdown",
   "metadata": {},
   "source": [
    "As a last step before modeling, we'll apply tf-idf. Note that this is implemented just as described in class, except we are 'smoothing' by adding 1s in both the tf and idf steps. This 'smoothing' step is done partly to ensure we're never dividing by zero.\n",
    "\n",
    "It is also important to note, as discussed in class, that we use only the training data when calculating our document frequency values. This is because we want to make sure we're normalizing all three sets (training, validation, and test) by the same document frequency, but we cannot use information outside of the training partition when we normalize it (*why?*).\n",
    "\n",
    "Our data is now ready for modeling: we have `x_train`, `x_val`, and `x_test` along with the corresponding $y$ values."
   ]
  },
  {
   "cell_type": "code",
   "execution_count": 10,
   "metadata": {},
   "outputs": [],
   "source": [
    "def term_freq(counts):\n",
    "    row_totals = np.sum(counts, axis=1) + 1\n",
    "    assert np.amin(row_totals) > 0\n",
    "    return counts / row_totals[:, np.newaxis]\n",
    "\n",
    "def document_freq(counts):\n",
    "    col_totals = np.sum((counts > 0).astype('int'), axis=0) + 1\n",
    "    assert np.amin(col_totals) > 0\n",
    "    return col_totals[np.newaxis, :] / (len(counts) + 1)\n",
    "\n",
    "df = document_freq(counts_train)\n",
    "\n",
    "x_train = term_freq(counts_train) / df\n",
    "x_val = term_freq(counts_val) / df\n",
    "x_test = term_freq(counts_test) / df"
   ]
  }
 ],
 "metadata": {
  "kernelspec": {
   "display_name": "Python 3 (ipykernel)",
   "language": "python",
   "name": "python3"
  },
  "language_info": {
   "codemirror_mode": {
    "name": "ipython",
    "version": 3
   },
   "file_extension": ".py",
   "mimetype": "text/x-python",
   "name": "python",
   "nbconvert_exporter": "python",
   "pygments_lexer": "ipython3",
   "version": "3.9.6"
  }
 },
 "nbformat": 4,
 "nbformat_minor": 2
}
