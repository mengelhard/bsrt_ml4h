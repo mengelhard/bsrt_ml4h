{
 "cells": [
  {
   "cell_type": "code",
   "execution_count": 1,
   "id": "cb50d6d7",
   "metadata": {},
   "outputs": [],
   "source": [
    "import numpy as np\n",
    "import pandas as pd"
   ]
  },
  {
   "cell_type": "markdown",
   "id": "8046cbd9",
   "metadata": {},
   "source": [
    "## Examples of list comprehensions"
   ]
  },
  {
   "cell_type": "code",
   "execution_count": null,
   "id": "1be33cb7",
   "metadata": {},
   "outputs": [],
   "source": [
    "# illustrate a simple list comprehension"
   ]
  },
  {
   "cell_type": "code",
   "execution_count": null,
   "id": "676c2fd7",
   "metadata": {},
   "outputs": [],
   "source": [
    "# illustrate the use of an 'if' statement in a list comprehension"
   ]
  },
  {
   "cell_type": "code",
   "execution_count": null,
   "id": "47347456",
   "metadata": {},
   "outputs": [],
   "source": [
    "# illustrate a more complex 'if' statement"
   ]
  },
  {
   "cell_type": "markdown",
   "id": "dba2056a",
   "metadata": {},
   "source": [
    "## List comprehensions for tokenizing a sentence"
   ]
  },
  {
   "cell_type": "code",
   "execution_count": 14,
   "id": "a8740313",
   "metadata": {},
   "outputs": [
    {
     "name": "stdout",
     "output_type": "stream",
     "text": [
      "This is a sentence!\n"
     ]
    }
   ],
   "source": [
    "s = 'This is a sentence!'\n",
    "print(s)"
   ]
  },
  {
   "cell_type": "code",
   "execution_count": 15,
   "id": "551bc43d",
   "metadata": {},
   "outputs": [
    {
     "name": "stdout",
     "output_type": "stream",
     "text": [
      "This is a (much) longer, more rambling sentence; and it contains 5 punctuation marks!\n"
     ]
    }
   ],
   "source": [
    "ls = 'According; to; Vonnegut; you; should; never; use; semi-colons.'\n",
    "print(ls)"
   ]
  },
  {
   "cell_type": "code",
   "execution_count": null,
   "id": "46575188",
   "metadata": {},
   "outputs": [],
   "source": [
    "# split a sentence on white space... note that we still have the '!'"
   ]
  },
  {
   "cell_type": "code",
   "execution_count": 7,
   "id": "7a683efd",
   "metadata": {},
   "outputs": [],
   "source": [
    "# use a list comprehension to convert to lower case"
   ]
  },
  {
   "cell_type": "code",
   "execution_count": 13,
   "id": "b1b9c523",
   "metadata": {},
   "outputs": [],
   "source": [
    "# use a list comprehension to select only those words that are alphanumeric and convert to lower case"
   ]
  },
  {
   "cell_type": "markdown",
   "id": "f9ee5229",
   "metadata": {},
   "source": [
    "## Make this easier with NLTK"
   ]
  },
  {
   "cell_type": "code",
   "execution_count": 11,
   "id": "12607ab6",
   "metadata": {},
   "outputs": [
    {
     "name": "stderr",
     "output_type": "stream",
     "text": [
      "[nltk_data] Downloading package punkt to /Users/mme/nltk_data...\n",
      "[nltk_data]   Package punkt is already up-to-date!\n",
      "[nltk_data] Downloading package stopwords to /Users/mme/nltk_data...\n",
      "[nltk_data]   Package stopwords is already up-to-date!\n"
     ]
    }
   ],
   "source": [
    "# Note: you may need to pip or conda install nltk\n",
    "\n",
    "import nltk\n",
    "from nltk.tokenize import word_tokenize\n",
    "from nltk.corpus import stopwords\n",
    "\n",
    "nltk.download('punkt')\n",
    "nltk.download('stopwords')\n",
    "stop_words = set(stopwords.words('english'))"
   ]
  },
  {
   "cell_type": "code",
   "execution_count": 16,
   "id": "6b77830a",
   "metadata": {},
   "outputs": [],
   "source": [
    "# use word tokenize to split the sentences"
   ]
  },
  {
   "cell_type": "code",
   "execution_count": null,
   "id": "dbb3c491",
   "metadata": {
    "collapsed": true
   },
   "outputs": [],
   "source": [
    "# create a function that uses list comprehensions to tokenize, remove stop words and non alphanumeric, and .lower()"
   ]
  }
 ],
 "metadata": {
  "kernelspec": {
   "display_name": "Python 3 (ipykernel)",
   "language": "python",
   "name": "python3"
  },
  "language_info": {
   "codemirror_mode": {
    "name": "ipython",
    "version": 3
   },
   "file_extension": ".py",
   "mimetype": "text/x-python",
   "name": "python",
   "nbconvert_exporter": "python",
   "pygments_lexer": "ipython3",
   "version": "3.9.6"
  }
 },
 "nbformat": 4,
 "nbformat_minor": 5
}
