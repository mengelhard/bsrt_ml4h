{
 "cells": [
  {
   "cell_type": "code",
   "execution_count": 1,
   "id": "cb50d6d7",
   "metadata": {},
   "outputs": [],
   "source": [
    "import numpy as np\n",
    "import pandas as pd"
   ]
  },
  {
   "cell_type": "markdown",
   "id": "8046cbd9",
   "metadata": {},
   "source": [
    "## Examples of list comprehensions"
   ]
  },
  {
   "cell_type": "code",
   "execution_count": 4,
   "id": "1be33cb7",
   "metadata": {},
   "outputs": [
    {
     "data": {
      "text/plain": [
       "[0, 1, 2, 3, 4, 5, 6, 7, 8, 9, 10, 11, 12, 13, 14, 15, 16, 17, 18, 19]"
      ]
     },
     "execution_count": 4,
     "metadata": {},
     "output_type": "execute_result"
    }
   ],
   "source": [
    "# illustrate a simple list comprehension\n",
    "[x for x in range(20)]"
   ]
  },
  {
   "cell_type": "code",
   "execution_count": 6,
   "id": "676c2fd7",
   "metadata": {},
   "outputs": [
    {
     "data": {
      "text/plain": [
       "[0, 2, 4, 6, 8, 10, 12, 14, 16, 18]"
      ]
     },
     "execution_count": 6,
     "metadata": {},
     "output_type": "execute_result"
    }
   ],
   "source": [
    "# illustrate the use of an 'if' statement in a list comprehension\n",
    "[x for x in range(20) if (x % 2 == 0)]"
   ]
  },
  {
   "cell_type": "code",
   "execution_count": 8,
   "id": "47347456",
   "metadata": {},
   "outputs": [
    {
     "data": {
      "text/plain": [
       "[0, 36, 144, 324]"
      ]
     },
     "execution_count": 8,
     "metadata": {},
     "output_type": "execute_result"
    }
   ],
   "source": [
    "# illustrate a more complex 'if' statement\n",
    "[x ** 2 for x in range(20) if (x % 2 == 0) and (x % 3 == 0)]"
   ]
  },
  {
   "cell_type": "markdown",
   "id": "dba2056a",
   "metadata": {},
   "source": [
    "## List comprehensions for tokenizing a sentence"
   ]
  },
  {
   "cell_type": "code",
   "execution_count": 9,
   "id": "a8740313",
   "metadata": {},
   "outputs": [
    {
     "name": "stdout",
     "output_type": "stream",
     "text": [
      "This is a sentence!\n"
     ]
    }
   ],
   "source": [
    "s = 'This is a sentence!'\n",
    "print(s)"
   ]
  },
  {
   "cell_type": "code",
   "execution_count": 10,
   "id": "551bc43d",
   "metadata": {},
   "outputs": [
    {
     "name": "stdout",
     "output_type": "stream",
     "text": [
      "According; to; Vonnegut; you; should; never; use; semi-colons.\n"
     ]
    }
   ],
   "source": [
    "ls = 'According; to; Vonnegut; you; should; never; use; semi-colons.'\n",
    "print(ls)"
   ]
  },
  {
   "cell_type": "code",
   "execution_count": 14,
   "id": "46575188",
   "metadata": {},
   "outputs": [
    {
     "data": {
      "text/plain": [
       "['This', 'is', 'a', 'sentence!']"
      ]
     },
     "execution_count": 14,
     "metadata": {},
     "output_type": "execute_result"
    }
   ],
   "source": [
    "# split a sentence on white space... note that we still have the '!'\n",
    "s.split()"
   ]
  },
  {
   "cell_type": "code",
   "execution_count": 13,
   "id": "27f32863",
   "metadata": {},
   "outputs": [
    {
     "data": {
      "text/plain": [
       "['According;',\n",
       " 'to;',\n",
       " 'Vonnegut;',\n",
       " 'you;',\n",
       " 'should;',\n",
       " 'never;',\n",
       " 'use;',\n",
       " 'semi-colons.']"
      ]
     },
     "execution_count": 13,
     "metadata": {},
     "output_type": "execute_result"
    }
   ],
   "source": [
    "ls.split()"
   ]
  },
  {
   "cell_type": "code",
   "execution_count": 17,
   "id": "7a683efd",
   "metadata": {},
   "outputs": [
    {
     "data": {
      "text/plain": [
       "['this', 'is', 'a']"
      ]
     },
     "execution_count": 17,
     "metadata": {},
     "output_type": "execute_result"
    }
   ],
   "source": [
    "# use a list comprehension to convert to lower case\n",
    "[w.lower() for w in s.split() if w.isalpha()]"
   ]
  },
  {
   "cell_type": "code",
   "execution_count": 18,
   "id": "a92d2433",
   "metadata": {},
   "outputs": [
    {
     "data": {
      "text/plain": [
       "[]"
      ]
     },
     "execution_count": 18,
     "metadata": {},
     "output_type": "execute_result"
    }
   ],
   "source": [
    "[w.lower() for w in ls.split() if w.isalpha()]"
   ]
  },
  {
   "cell_type": "code",
   "execution_count": 13,
   "id": "b1b9c523",
   "metadata": {},
   "outputs": [],
   "source": [
    "# use a list comprehension to select only those words that are alphanumeric and convert to lower case"
   ]
  },
  {
   "cell_type": "markdown",
   "id": "f9ee5229",
   "metadata": {},
   "source": [
    "## Make this easier with NLTK"
   ]
  },
  {
   "cell_type": "code",
   "execution_count": 43,
   "id": "12607ab6",
   "metadata": {},
   "outputs": [
    {
     "name": "stderr",
     "output_type": "stream",
     "text": [
      "[nltk_data] Downloading package punkt to /Users/mme/nltk_data...\n",
      "[nltk_data]   Package punkt is already up-to-date!\n",
      "[nltk_data] Downloading package stopwords to /Users/mme/nltk_data...\n",
      "[nltk_data]   Package stopwords is already up-to-date!\n"
     ]
    }
   ],
   "source": [
    "# Note: you may need to pip or conda install nltk\n",
    "\n",
    "import nltk\n",
    "from nltk.tokenize import word_tokenize\n",
    "from nltk.corpus import stopwords\n",
    "from nltk.stem import PorterStemmer\n",
    "\n",
    "nltk.download('punkt')\n",
    "nltk.download('stopwords')\n",
    "stop_words = set(stopwords.words('english'))\n",
    "\n",
    "ps = PorterStemmer()"
   ]
  },
  {
   "cell_type": "code",
   "execution_count": 20,
   "id": "6b77830a",
   "metadata": {},
   "outputs": [
    {
     "data": {
      "text/plain": [
       "['This', 'is', 'a', 'sentence', '!']"
      ]
     },
     "execution_count": 20,
     "metadata": {},
     "output_type": "execute_result"
    }
   ],
   "source": [
    "# use word tokenize to split the sentences\n",
    "word_tokenize(s)"
   ]
  },
  {
   "cell_type": "code",
   "execution_count": 21,
   "id": "152633f7",
   "metadata": {},
   "outputs": [
    {
     "data": {
      "text/plain": [
       "['According',\n",
       " ';',\n",
       " 'to',\n",
       " ';',\n",
       " 'Vonnegut',\n",
       " ';',\n",
       " 'you',\n",
       " ';',\n",
       " 'should',\n",
       " ';',\n",
       " 'never',\n",
       " ';',\n",
       " 'use',\n",
       " ';',\n",
       " 'semi-colons',\n",
       " '.']"
      ]
     },
     "execution_count": 21,
     "metadata": {},
     "output_type": "execute_result"
    }
   ],
   "source": [
    "word_tokenize(ls)"
   ]
  },
  {
   "cell_type": "code",
   "execution_count": 38,
   "id": "33a6b35f",
   "metadata": {},
   "outputs": [
    {
     "name": "stdout",
     "output_type": "stream",
     "text": [
      "According; to; Vonnegut; you; can't use; semi-colons.\n"
     ]
    }
   ],
   "source": [
    "ls = \"According; to; Vonnegut; you; can't use; semi-colons.\"\n",
    "print(ls)"
   ]
  },
  {
   "cell_type": "code",
   "execution_count": 35,
   "id": "6fb8512b",
   "metadata": {},
   "outputs": [
    {
     "data": {
      "text/plain": [
       "'According; to; Vonnegut; you; should; never; use; semi-colons.'"
      ]
     },
     "execution_count": 35,
     "metadata": {},
     "output_type": "execute_result"
    }
   ],
   "source": [
    "ls"
   ]
  },
  {
   "cell_type": "code",
   "execution_count": 39,
   "id": "985863e9",
   "metadata": {},
   "outputs": [
    {
     "data": {
      "text/plain": [
       "['According',\n",
       " ';',\n",
       " 'to',\n",
       " ';',\n",
       " 'Vonnegut',\n",
       " ';',\n",
       " 'you',\n",
       " ';',\n",
       " 'ca',\n",
       " \"n't\",\n",
       " 'use',\n",
       " ';',\n",
       " 'semi-colons',\n",
       " '.']"
      ]
     },
     "execution_count": 39,
     "metadata": {},
     "output_type": "execute_result"
    }
   ],
   "source": [
    "word_tokenize(ls)"
   ]
  },
  {
   "cell_type": "code",
   "execution_count": 44,
   "id": "5e6001b2",
   "metadata": {},
   "outputs": [
    {
     "data": {
      "text/plain": [
       "['accord',\n",
       " ';',\n",
       " ';',\n",
       " 'vonnegut',\n",
       " ';',\n",
       " ';',\n",
       " 'ca',\n",
       " \"n't\",\n",
       " 'use',\n",
       " ';',\n",
       " 'semi-colon',\n",
       " '.']"
      ]
     },
     "execution_count": 44,
     "metadata": {},
     "output_type": "execute_result"
    }
   ],
   "source": [
    "[ps.stem(w.lower()) for w in word_tokenize(ls) if not w in stop_words]"
   ]
  },
  {
   "cell_type": "code",
   "execution_count": null,
   "id": "dbb3c491",
   "metadata": {
    "collapsed": true
   },
   "outputs": [],
   "source": [
    "# create a function that uses list comprehensions to tokenize, remove stop words and non alphanumeric, and .lower()"
   ]
  }
 ],
 "metadata": {
  "kernelspec": {
   "display_name": "Python 3 (ipykernel)",
   "language": "python",
   "name": "python3"
  },
  "language_info": {
   "codemirror_mode": {
    "name": "ipython",
    "version": 3
   },
   "file_extension": ".py",
   "mimetype": "text/x-python",
   "name": "python",
   "nbconvert_exporter": "python",
   "pygments_lexer": "ipython3",
   "version": "3.9.6"
  }
 },
 "nbformat": 4,
 "nbformat_minor": 5
}
