{
 "cells": [
  {
   "cell_type": "markdown",
   "id": "0d98d5e2",
   "metadata": {},
   "source": [
    "# Computational Exercise 11: Human Activity Recognition\n",
    "\n",
    "**Please note that (optionally) this assignment may be completed in groups of 2 students.**\n",
    "\n",
    "---\n",
    "In this exercise...\n",
    "\n",
    "Goals are as follows:\n",
    "\n",
    "- Goal 1\n",
    "- Goal 2\n",
    "\n",
    "We'll begin by importing required libraries:\n",
    "\n",
    "- numpy for efficient math operations\n",
    "- tensorflow for defining and training our RNN\n",
    "- matplotlib for visualization/plotting"
   ]
  },
  {
   "cell_type": "code",
   "execution_count": 1,
   "id": "56b17046",
   "metadata": {},
   "outputs": [],
   "source": [
    "import numpy as np\n",
    "import pandas as pd\n",
    "import matplotlib.pyplot as plt\n",
    "import tensorflow as tf\n",
    "import os"
   ]
  },
  {
   "cell_type": "markdown",
   "id": "37bb441c",
   "metadata": {},
   "source": [
    "## Download the dataset"
   ]
  },
  {
   "cell_type": "code",
   "execution_count": 2,
   "id": "4525b659",
   "metadata": {
    "scrolled": false
   },
   "outputs": [],
   "source": [
    "from io import BytesIO\n",
    "from urllib.request import urlopen\n",
    "from zipfile import ZipFile\n",
    "\n",
    "zipurl = \"https://archive.ics.uci.edu/ml/machine-learning-databases/00240/UCI HAR Dataset.zip\".replace(\" \", \"%20\")\n",
    "\n",
    "with urlopen(zipurl) as zipresp:\n",
    "    with ZipFile(BytesIO(zipresp.read())) as zfile:\n",
    "        zfile.extractall('HAR')"
   ]
  },
  {
   "cell_type": "code",
   "execution_count": 12,
   "id": "76fbc465",
   "metadata": {},
   "outputs": [
    {
     "name": "stdout",
     "output_type": "stream",
     "text": [
      "['body_gyro_z_train.txt', 'body_acc_y_train.txt', 'total_acc_z_train.txt', 'body_acc_x_train.txt', 'body_gyro_x_train.txt', 'total_acc_y_train.txt', 'body_gyro_y_train.txt', 'total_acc_x_train.txt', 'body_acc_z_train.txt']\n"
     ]
    }
   ],
   "source": [
    "train_dir = 'HAR/UCI HAR Dataset/train/Inertial Signals'\n",
    "train_files = os.listdir(train_dir)\n",
    "\n",
    "print(train_files)"
   ]
  },
  {
   "cell_type": "code",
   "execution_count": null,
   "id": "48d1d070",
   "metadata": {},
   "outputs": [],
   "source": [
    "x_train = np.concatenate([\n",
    "    pd.read_table(\n",
    "        os.path.join(train_dir, fn),\n",
    "        header=None, sep='\\s+').values[:, :, np.newaxis]\n",
    "    for fn in train_files], axis=2)\n",
    "\n",
    "x_mean = x_train.mean(axis=1).mean(axis=0)\n",
    "x_std = x_train.std(axis=1).mean(axis=0)\n",
    "\n",
    "x_train = (x_train - x_mean) / x_std"
   ]
  },
  {
   "cell_type": "code",
   "execution_count": 8,
   "id": "a0a61731",
   "metadata": {},
   "outputs": [],
   "source": [
    "test_dir = 'HAR/UCI HAR Dataset/test/Inertial Signals'\n",
    "\n",
    "x_test = np.concatenate([\n",
    "    pd.read_table(\n",
    "        os.path.join(test_dir, fn.replace('train', 'test')),\n",
    "        header=None, sep='\\s+').values[:, :, np.newaxis]\n",
    "    for fn in train_files], axis=2)\n",
    "\n",
    "x_test = (x_test - x_mean) / x_std"
   ]
  },
  {
   "cell_type": "code",
   "execution_count": 10,
   "id": "7e7713be",
   "metadata": {},
   "outputs": [],
   "source": [
    "y_train = pd.read_table(\n",
    "    'HAR/UCI HAR Dataset/train/y_train.txt',\n",
    "    header=None, squeeze=True\n",
    ").values - 1"
   ]
  },
  {
   "cell_type": "code",
   "execution_count": 11,
   "id": "2b307433",
   "metadata": {},
   "outputs": [],
   "source": [
    "y_test = pd.read_table(\n",
    "    'HAR/UCI HAR Dataset/test/y_test.txt',\n",
    "    header=None, squeeze=True\n",
    ").values - 1"
   ]
  },
  {
   "cell_type": "markdown",
   "id": "01c98b32",
   "metadata": {},
   "source": [
    "## Exercise 11.1: Exploring the data\n",
    "\n",
    "In as many blocks as needed, explore the dataset, including:\n",
    "- Determine the shape of `x_train`, `x_test`, `y_train`, and `y_test`\n",
    "- Count the number of each type of label in `y_train` and `y_test`\n",
    "- Plot (using `plt.plot`) at least one inertial signal over time for at least one example. To do this, note that in `x_train`, the different examples are stacked along axis 0, time varies along axis 1, and the inertial signal varies along axis 2 (e.g. rotation and acceleration in each direction)"
   ]
  },
  {
   "cell_type": "code",
   "execution_count": 14,
   "id": "9cfe472c",
   "metadata": {},
   "outputs": [
    {
     "data": {
      "text/plain": [
       "((7352, 128, 9), (7352,), (2947, 128, 9), (2947,))"
      ]
     },
     "execution_count": 14,
     "metadata": {},
     "output_type": "execute_result"
    }
   ],
   "source": [
    "x_train.shape, y_train.shape, x_test.shape, y_test.shape"
   ]
  },
  {
   "cell_type": "code",
   "execution_count": 13,
   "id": "73876d84",
   "metadata": {},
   "outputs": [
    {
     "data": {
      "text/plain": [
       "5    1407\n",
       "4    1374\n",
       "3    1286\n",
       "0    1226\n",
       "1    1073\n",
       "2     986\n",
       "dtype: int64"
      ]
     },
     "execution_count": 13,
     "metadata": {},
     "output_type": "execute_result"
    }
   ],
   "source": [
    "pd.value_counts(y_train)"
   ]
  },
  {
   "cell_type": "code",
   "execution_count": 15,
   "id": "deef8cf0",
   "metadata": {},
   "outputs": [
    {
     "data": {
      "image/png": "[encoded data removed]",
      "text/plain": [
       "<Figure size 432x288 with 1 Axes>"
      ]
     },
     "metadata": {
      "needs_background": "light"
     },
     "output_type": "display_data"
    }
   ],
   "source": [
    "plt.plot(x_train[0, :, 0])\n",
    "plt.show()"
   ]
  },
  {
   "cell_type": "markdown",
   "id": "89bc6095",
   "metadata": {},
   "source": [
    "## Exercise 11.2: Extract features"
   ]
  },
  {
   "cell_type": "code",
   "execution_count": 16,
   "id": "ba4d6a1e",
   "metadata": {},
   "outputs": [
    {
     "data": {
      "text/plain": [
       "((7352, 36), (2947, 36))"
      ]
     },
     "execution_count": 16,
     "metadata": {},
     "output_type": "execute_result"
    }
   ],
   "source": [
    "x_train_features = np.concatenate(\n",
    "    [\n",
    "        x_train.mean(axis=1),\n",
    "        x_train.std(axis=1),\n",
    "        x_train.max(axis=1),\n",
    "        x_train.min(axis=1)\n",
    "    ],\n",
    "    axis=1\n",
    ")\n",
    "\n",
    "x_test_features = np.concatenate(\n",
    "    [\n",
    "        x_test.mean(axis=1),\n",
    "        x_test.std(axis=1),\n",
    "        x_test.max(axis=1),\n",
    "        x_test.min(axis=1)\n",
    "    ],\n",
    "    axis=1\n",
    ")\n",
    "\n",
    "x_train_features.shape, x_test_features.shape"
   ]
  },
  {
   "cell_type": "markdown",
   "id": "bc88f791",
   "metadata": {},
   "source": [
    "## Exercise 11.3: Logistic regression"
   ]
  },
  {
   "cell_type": "code",
   "execution_count": 17,
   "id": "c61ece6f",
   "metadata": {},
   "outputs": [],
   "source": [
    "from sklearn.linear_model import LogisticRegression"
   ]
  },
  {
   "cell_type": "code",
   "execution_count": 18,
   "id": "3a434969",
   "metadata": {},
   "outputs": [
    {
     "name": "stdout",
     "output_type": "stream",
     "text": [
      "The accuracy is 0.841533763148965\n"
     ]
    }
   ],
   "source": [
    "lr_model = LogisticRegression(max_iter=10000)\n",
    "lr_model.fit(x_train_features, y_train)\n",
    "\n",
    "y_pred = lr_model.predict(x_test_features)\n",
    "print('The accuracy is %.1f' % (100 * np.mean(y_pred == y_test)))"
   ]
  },
  {
   "cell_type": "markdown",
   "id": "1d6d19f2",
   "metadata": {},
   "source": [
    "## Exercise 11.4: LSTM"
   ]
  },
  {
   "cell_type": "code",
   "execution_count": 19,
   "id": "a153deed",
   "metadata": {},
   "outputs": [],
   "source": [
    "from tensorflow.keras.layers import Dense, LSTM\n",
    "from tensorflow.keras import Model\n",
    "\n",
    "class MyLSTM(Model):\n",
    "    def __init__(self):\n",
    "        super(MyLSTM, self).__init__()\n",
    "        self.lstm = LSTM(36)\n",
    "        self.fc = Dense(6)\n",
    "\n",
    "    def call(self, x):\n",
    "        x = self.lstm(x)\n",
    "        return self.fc(x)"
   ]
  },
  {
   "cell_type": "code",
   "execution_count": 20,
   "id": "1ef49cef",
   "metadata": {},
   "outputs": [],
   "source": [
    "model = MyLSTM()"
   ]
  },
  {
   "cell_type": "code",
   "execution_count": 21,
   "id": "35f4e1f0",
   "metadata": {},
   "outputs": [],
   "source": [
    "loss_object = tf.keras.losses.SparseCategoricalCrossentropy(from_logits=True) # multi-class cross-entropy loss\n",
    "optimizer = tf.keras.optimizers.Adam() # modified stochastic gradient descent optimizer"
   ]
  },
  {
   "cell_type": "code",
   "execution_count": 22,
   "id": "8139f529",
   "metadata": {},
   "outputs": [],
   "source": [
    "# create tensorflow datasets\n",
    "train_ds = tf.data.Dataset.from_tensor_slices(\n",
    "    (x_train.astype('float32'), y_train)).batch(32)\n",
    "\n",
    "test_ds = tf.data.Dataset.from_tensor_slices(\n",
    "    (x_test.astype('float32'), y_test)).batch(32)"
   ]
  },
  {
   "cell_type": "code",
   "execution_count": 23,
   "id": "244a3d93",
   "metadata": {
    "scrolled": false
   },
   "outputs": [
    {
     "name": "stdout",
     "output_type": "stream",
     "text": [
      "Epoch 0: train accuracy = 59.8%, test accuracy = 71.5%\n",
      "Epoch 1: train accuracy = 80.8%, test accuracy = 79.0%\n",
      "Epoch 2: train accuracy = 88.0%, test accuracy = 84.3%\n",
      "Epoch 3: train accuracy = 91.6%, test accuracy = 81.5%\n",
      "Epoch 4: train accuracy = 92.4%, test accuracy = 87.0%\n",
      "Epoch 5: train accuracy = 93.9%, test accuracy = 87.1%\n",
      "Epoch 6: train accuracy = 94.8%, test accuracy = 86.9%\n",
      "Epoch 7: train accuracy = 95.1%, test accuracy = 88.5%\n",
      "Epoch 8: train accuracy = 94.0%, test accuracy = 89.2%\n",
      "Epoch 9: train accuracy = 94.3%, test accuracy = 89.0%\n",
      "Epoch 10: train accuracy = 93.7%, test accuracy = 88.8%\n",
      "Epoch 11: train accuracy = 94.6%, test accuracy = 88.2%\n",
      "Epoch 12: train accuracy = 94.9%, test accuracy = 89.4%\n",
      "Epoch 13: train accuracy = 95.3%, test accuracy = 88.9%\n",
      "Epoch 14: train accuracy = 95.2%, test accuracy = 90.6%\n"
     ]
    }
   ],
   "source": [
    "EPOCHS = 15\n",
    "\n",
    "for epoch in range(EPOCHS):\n",
    "\n",
    "    train_accuracy = []\n",
    "    test_accuracy = []\n",
    "  \n",
    "    for i, (x, y) in enumerate(train_ds):\n",
    "        \n",
    "        print('Running training batch %i of %i' % (i, len(train_ds)), end='\\r')\n",
    "    \n",
    "        with tf.GradientTape() as tape:\n",
    "            predicted_logits = model(x)\n",
    "            loss = loss_object(y, predicted_logits)\n",
    "\n",
    "        y_pred = np.argmax(predicted_logits, axis=1)\n",
    "        batch_accuracy = np.mean(y_pred == y)\n",
    "        train_accuracy.append(batch_accuracy)\n",
    "    \n",
    "        gradients = tape.gradient(loss, model.trainable_variables)\n",
    "        optimizer.apply_gradients(zip(gradients, model.trainable_variables))\n",
    "\n",
    "    for i, (x, y) in enumerate(test_ds):\n",
    "        \n",
    "        print('Running test batch %i of %i' % (i, len(test_ds)), end='\\r')\n",
    "    \n",
    "        predicted_logits = model(x)\n",
    "        y_pred = np.argmax(predicted_logits, axis=1)\n",
    "    \n",
    "        batch_accuracy = np.mean(y_pred == y)\n",
    "        test_accuracy.append(batch_accuracy)\n",
    "\n",
    "    train_accuracy = 100 * np.mean(train_accuracy)\n",
    "    test_accuracy = 100 * np.mean(test_accuracy)\n",
    "        \n",
    "    print('Epoch %i: train accuracy = %.1f%%, test accuracy = %.1f%%' % (\n",
    "        epoch, train_accuracy, test_accuracy))"
   ]
  },
  {
   "cell_type": "code",
   "execution_count": null,
   "id": "ff60885d",
   "metadata": {},
   "outputs": [],
   "source": []
  }
 ],
 "metadata": {
  "kernelspec": {
   "display_name": "Python 3 (ipykernel)",
   "language": "python",
   "name": "python3"
  },
  "language_info": {
   "codemirror_mode": {
    "name": "ipython",
    "version": 3
   },
   "file_extension": ".py",
   "mimetype": "text/x-python",
   "name": "python",
   "nbconvert_exporter": "python",
   "pygments_lexer": "ipython3",
   "version": "3.8.12"
  }
 },
 "nbformat": 4,
 "nbformat_minor": 5
}
