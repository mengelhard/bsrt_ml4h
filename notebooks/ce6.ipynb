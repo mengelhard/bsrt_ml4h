{
  "nbformat": 4,
  "nbformat_minor": 0,
  "metadata": {
    "kernelspec": {
      "display_name": "Python 3 (ipykernel)",
      "language": "python",
      "name": "python3"
    },
    "language_info": {
      "codemirror_mode": {
        "name": "ipython",
        "version": 3
      },
      "file_extension": ".py",
      "mimetype": "text/x-python",
      "name": "python",
      "nbconvert_exporter": "python",
      "pygments_lexer": "ipython3",
      "version": "3.9.6"
    },
    "colab": {
      "name": "ce6.ipynb",
      "provenance": []
    },
    "accelerator": "GPU"
  },
  "cells": [
    {
      "cell_type": "markdown",
      "metadata": {
        "id": "GAhB0ibxBJBb"
      },
      "source": [
        "# Computational Exercise 6: Better MNIST Predictions with Tensorflow\n",
        "\n",
        "**Please note that (optionally) this assignment may be completed in groups of 2 students.**\n",
        "\n",
        "---\n",
        "In this exercise, we'll take a look at an important limitation of logistic regression and MLP models applied to images, then overcome these limitations by training a shallow CNN in Tensorflow.\n",
        "\n",
        "Goals are as follows:\n",
        "\n",
        "- Observe that logistic regression is *not* effective when digits are not centered (why?)\n",
        "- Train a simple CNN to identify digits *even when their position varies*\n",
        "- Visualize the filters for each digit learned by the CNN\n",
        "- Create and train a model that classifies handwritten digits with over 98% accuracy\n",
        "\n",
        "We'll begin by importing required libraries:\n",
        "\n",
        "- numpy for efficient math operations\n",
        "- sklearn for defining and training our logistic regression and MLP models\n",
        "- tensorflow for defining and training our simple CNN\n",
        "- matplotlib for visualization/plotting"
      ]
    },
    {
      "cell_type": "code",
      "metadata": {
        "id": "ez69LmdZBJBd"
      },
      "source": [
        "import numpy as np\n",
        "import tensorflow as tf\n",
        "import matplotlib.pyplot as plt"
      ],
      "execution_count": 1,
      "outputs": []
    },
    {
      "cell_type": "markdown",
      "metadata": {
        "id": "JxWCcVu_BJBd"
      },
      "source": [
        "As before, we'll load the MNIST dataset. The data are already broken down into:\n",
        "\n",
        "1. a development set, which we'll use for training\n",
        "2. a test set, which we'll use to evaluate performance\n",
        "\n",
        "As in the previous exercise, we will not be tuning our models, so we will not set aside a validation set."
      ]
    },
    {
      "cell_type": "code",
      "metadata": {
        "id": "B0c4OWUGBJBe",
        "outputId": "b8d3463d-bdb2-46e4-e621-d6f8c1fd98e4",
        "colab": {
          "base_uri": "https://localhost:8080/"
        }
      },
      "source": [
        "# Load MNIST\n",
        "(x_dev, y_dev), (x_test, y_test) = tf.keras.datasets.mnist.load_data()\n",
        "\n",
        "print('There are', len(x_dev), 'training images.')\n",
        "print('There are', len(x_test), 'test images.')"
      ],
      "execution_count": 2,
      "outputs": [
        {
          "output_type": "stream",
          "name": "stdout",
          "text": [
            "There are 60000 training images.\n",
            "There are 10000 test images.\n"
          ]
        }
      ]
    },
    {
      "cell_type": "markdown",
      "metadata": {
        "id": "by1ydij9BJBe"
      },
      "source": [
        "To review code that allows us to inspect the images and labels, please review [Computational Exercise 5](https://github.com/mengelhard/bsrt_ml4h/blob/master/notebooks/ce5.ipynb)."
      ]
    },
    {
      "cell_type": "markdown",
      "metadata": {
        "id": "xqIbwuLQBJBj"
      },
      "source": [
        "## Un-Centering our Digits\n",
        "In MNIST, all digits are centered, which substantially simplifies the problem. In many real-world datasets, on the other hand, we need to identify image features regardless of where they may be present within the image. Let's explore this issue by modifying MNIST so that digits are no longer centered. We'll first enlarge the images, then place digits at random positions within the enlarged image. We'll do this by padding each image (in both our development and test sets) with zeroes."
      ]
    },
    {
      "cell_type": "code",
      "metadata": {
        "id": "VXi4BkrBBJBj"
      },
      "source": [
        "def pad_image(img, pad_len):\n",
        "    m, n = img.shape\n",
        "    i = np.random.randint(pad_len - 2) + 1 # pick a horizontal offset between 1 and (pad_len - 1)\n",
        "    j = np.random.randint(pad_len - 2) + 1 # pick a vertical offset bewteen 1 and (pad_len - 1)\n",
        "    img = np.concatenate([[[0] * i] * m, img, [[0] * (pad_len - i)] * m], axis=1) # pad horizontally\n",
        "    img = np.concatenate([[[0] * (n + pad_len)] * j, img, [[0] * (n + pad_len)] * (pad_len - j)], axis=0) # pad vertically\n",
        "    return img\n",
        "\n",
        "x_dev_padded = np.array([pad_image(x, 20) for x in x_dev])\n",
        "x_test_padded = np.array([pad_image(x, 20) for x in x_test])"
      ],
      "execution_count": 3,
      "outputs": []
    },
    {
      "cell_type": "markdown",
      "metadata": {
        "id": "YAQ6sQywBJBk"
      },
      "source": [
        "In the plots below, we see that digits are no longer centered in the modified dataset."
      ]
    },
    {
      "cell_type": "code",
      "metadata": {
        "id": "-FbbcU9tBJBk",
        "outputId": "55b17fb9-2d93-4e52-f3ed-471037ec69e9",
        "colab": {
          "base_uri": "https://localhost:8080/",
          "height": 241
        }
      },
      "source": [
        "fig, ax = plt.subplots(nrows=1, ncols=5, figsize=(15, 3))\n",
        "for i in range(5):\n",
        "    ax[i].imshow(x_dev_padded[i, :, :], cmap='gray')\n",
        "    ax[i].set_title('MNIST Image %i, Label = %i' % (i, y_dev[i]), fontsize=12)\n",
        "plt.tight_layout()\n",
        "plt.show()"
      ],
      "execution_count": 4,
      "outputs": [
        {
          "output_type": "display_data",
          "data": {
            "image/png": "[encoded data removed]",
            "text/plain": [
              "<Figure size 1080x216 with 5 Axes>"
            ]
          },
          "metadata": {
            "needs_background": "light"
          }
        }
      ]
    },
    {
      "cell_type": "markdown",
      "metadata": {
        "id": "uqjCG14RBJBk"
      },
      "source": [
        "## Exercise 1: Logistic Regression\n",
        "Let's see whether logistic regression is able to classify digits effectively now that they're not centered. In the following block, you should:\n",
        "- Train a logistic regression model (i.e. LogisticRegression()) to predict the labels of digits in MNIST.\n",
        "- After training a model on the development set, evaluate its accuracy on the test set. As in the previous computational excercise, you'll need to flatten the images in order to use logistic regression. Remember that your predictions are no longer binary; instead, you are predicting one of ten different digits.\n",
        "- visualize the logistic regression filters using the same or similar code as in [computational exercise 5](https://github.com/mengelhard/bsrt_ml4h/blob/master/notebooks/ce5.ipynb)."
      ]
    },
    {
      "cell_type": "code",
      "metadata": {
        "id": "gVLbmiJLBJBk"
      },
      "source": [
        "from sklearn.linear_model import LogisticRegression\n",
        "\n",
        "### CREATE A LOGISTIC REGRESSION MODEL AND TRAIN IT ON THE FLATTENED DEVELOPMENT SET ###\n",
        "\n",
        "\n",
        "### USE THE TRAINED MODEL TO MAKE PREDICTIONS ON THE (FLATTENED) TEST SET ###\n",
        "\n",
        "\n",
        "### EVALUATE THE ACCURACY OF THE MODEL'S PREDICTIONS ON THE TEST SET ###"
      ],
      "execution_count": 12,
      "outputs": []
    },
    {
      "cell_type": "code",
      "metadata": {
        "id": "XVuPpQcmBJBl"
      },
      "source": [
        "### ACCESS THE MODEL COEFFICIENTS ###\n",
        "\n",
        "\n",
        "### RESHAPE EACH OF THE 10 COEFFICIENT VECTORS TO HAVE SHAPE (28, 28) ###\n",
        "\n",
        "\n",
        "### PLOT EACH OF THE RESHAPED VECTORS (i.e. FILTERS) ###"
      ],
      "execution_count": 13,
      "outputs": []
    },
    {
      "cell_type": "markdown",
      "metadata": {
        "id": "ld62tsVEBJBl"
      },
      "source": [
        "## Our First Tensorflow Model\n",
        "\n",
        "Let's see if a CNN can do better. In the code below, we'll define and train a very simple CNN that follows an example from our lectures. Specifically, we'll use 10 filters, one for each digit, each of size 28 x 28 -- the same size as the unmodified MNIST images.\n",
        "\n",
        "Note that this CNN is both unusual and inefficient -- normally, CNNs use a larger number of much smaller filters -- but it will allow us to see the *translation invariance* of the CNN.\n",
        "\n",
        "After applying our convolutional layer with unusually large filters, we'll max pool the output of each filter across the whole image, which should tell us whether the digit corresponding to that filter is present *anywhere* within the image. The output of the pooling operations will give us the predicted log-odds for each of the 10 digits.\n",
        "\n",
        "We'll begin by converting our dataset into a tensorflow Dataset object. This accomplishes two things. First, it converts our `numpy` arrays into tensors that we can pass to a Tensorflow model. Second, it will split our test and training datasets into smaller chunks, called batches, that we can iterate over during training and testing. In this case, we'll use batches of size 32, meaning that our Tensorflow model will be processing 32 images at a time."
      ]
    },
    {
      "cell_type": "code",
      "metadata": {
        "id": "wBCbw3mPCl2N"
      },
      "source": [
        "train_ds = tf.data.Dataset.from_tensor_slices((x_dev_padded.astype('float32'), y_dev)).batch(32)\n",
        "test_ds = tf.data.Dataset.from_tensor_slices((x_test_padded.astype('float32'), y_test)).batch(32)"
      ],
      "execution_count": 5,
      "outputs": []
    },
    {
      "cell_type": "markdown",
      "metadata": {
        "id": "76RDAeWtgEMS"
      },
      "source": [
        "We can then loop over our batches as shown in the next block. Here our goal is just to see what a single batch looks like, so we'll break the loop after printing out the first batch."
      ]
    },
    {
      "cell_type": "code",
      "metadata": {
        "id": "rkSxcoqICsHN",
        "outputId": "2639bd51-55a1-4668-b624-d5a7c303a6c6",
        "colab": {
          "base_uri": "https://localhost:8080/"
        }
      },
      "source": [
        "for images, labels in enumerate(train_ds):\n",
        "    print(images)\n",
        "    print(labels)\n",
        "    break"
      ],
      "execution_count": 6,
      "outputs": [
        {
          "output_type": "stream",
          "name": "stdout",
          "text": [
            "0\n",
            "(<tf.Tensor: shape=(32, 48, 48), dtype=float32, numpy=\n",
            "array([[[0., 0., 0., ..., 0., 0., 0.],\n",
            "        [0., 0., 0., ..., 0., 0., 0.],\n",
            "        [0., 0., 0., ..., 0., 0., 0.],\n",
            "        ...,\n",
            "        [0., 0., 0., ..., 0., 0., 0.],\n",
            "        [0., 0., 0., ..., 0., 0., 0.],\n",
            "        [0., 0., 0., ..., 0., 0., 0.]],\n",
            "\n",
            "       [[0., 0., 0., ..., 0., 0., 0.],\n",
            "        [0., 0., 0., ..., 0., 0., 0.],\n",
            "        [0., 0., 0., ..., 0., 0., 0.],\n",
            "        ...,\n",
            "        [0., 0., 0., ..., 0., 0., 0.],\n",
            "        [0., 0., 0., ..., 0., 0., 0.],\n",
            "        [0., 0., 0., ..., 0., 0., 0.]],\n",
            "\n",
            "       [[0., 0., 0., ..., 0., 0., 0.],\n",
            "        [0., 0., 0., ..., 0., 0., 0.],\n",
            "        [0., 0., 0., ..., 0., 0., 0.],\n",
            "        ...,\n",
            "        [0., 0., 0., ..., 0., 0., 0.],\n",
            "        [0., 0., 0., ..., 0., 0., 0.],\n",
            "        [0., 0., 0., ..., 0., 0., 0.]],\n",
            "\n",
            "       ...,\n",
            "\n",
            "       [[0., 0., 0., ..., 0., 0., 0.],\n",
            "        [0., 0., 0., ..., 0., 0., 0.],\n",
            "        [0., 0., 0., ..., 0., 0., 0.],\n",
            "        ...,\n",
            "        [0., 0., 0., ..., 0., 0., 0.],\n",
            "        [0., 0., 0., ..., 0., 0., 0.],\n",
            "        [0., 0., 0., ..., 0., 0., 0.]],\n",
            "\n",
            "       [[0., 0., 0., ..., 0., 0., 0.],\n",
            "        [0., 0., 0., ..., 0., 0., 0.],\n",
            "        [0., 0., 0., ..., 0., 0., 0.],\n",
            "        ...,\n",
            "        [0., 0., 0., ..., 0., 0., 0.],\n",
            "        [0., 0., 0., ..., 0., 0., 0.],\n",
            "        [0., 0., 0., ..., 0., 0., 0.]],\n",
            "\n",
            "       [[0., 0., 0., ..., 0., 0., 0.],\n",
            "        [0., 0., 0., ..., 0., 0., 0.],\n",
            "        [0., 0., 0., ..., 0., 0., 0.],\n",
            "        ...,\n",
            "        [0., 0., 0., ..., 0., 0., 0.],\n",
            "        [0., 0., 0., ..., 0., 0., 0.],\n",
            "        [0., 0., 0., ..., 0., 0., 0.]]], dtype=float32)>, <tf.Tensor: shape=(32,), dtype=uint8, numpy=\n",
            "array([5, 0, 4, 1, 9, 2, 1, 3, 1, 4, 3, 5, 3, 6, 1, 7, 2, 8, 6, 9, 4, 0,\n",
            "       9, 1, 1, 2, 4, 3, 2, 7, 3, 8], dtype=uint8)>)\n"
          ]
        }
      ]
    },
    {
      "cell_type": "markdown",
      "metadata": {
        "id": "VYqZNJU4hJWd"
      },
      "source": [
        "## Defining the Model\n",
        "\n",
        "Now it's time to define our model. We'll begin by importing the different types of layers we'll need, including:\n",
        "1. Dense layers, i.e. fully connected layers. By default, there is no activation function in these layers, but we can specify one (e.g. sigmoid) with the `activation` argument.\n",
        "2. Conv2D layers, i.e. convolutional layers. The first two arguments when defining such a layer are the number and size of the filters, respectively.\n",
        "3. MaxPool2D layers, i.e. max pooling layers. The first argument specifies the size (i.e. width and length) of the pooling window.\n",
        "4. Flatten layers simply flatten the tensor similar to `.flatten` in `numpy`.\n",
        "\n",
        "We can then import the Tensorflow `Model` class, which provides a foundation for the model we'll be defining.\n",
        "\n",
        "In the code below, we'll define our new, `SimpleCNN` class based on the model class. Really understanding what's happening here requires you to understand a little bit about classes in Python. Ultimately, though, there are a few important things to note.\n",
        "\n",
        "- You'll follow this general template every time you build your own Tensorflow model.\n",
        "- Each of the layers in your model will be defined in the `__init__` method. Here we'll define a single Conv2D layer called `conv1`, a single MaxPool2D layer called `mp1`, and a single Flatten layer called `flatten`. Prefacing these new layers with `self.` (e.g. `self.conv1`) specifies that they are attributes of the model; in other words, they are *attached* to the model much like `.coef_` was an attribute of LogisticRegression.\n",
        "- The `call` method then defines how the layers are successively applied to transform input into hidden (i.e. latent variables) and eventually into predictions. Here we first add a new axis to the input; this is needed because `Conv2D` expects a `channels` axis (e.g. RGB color channels). We then apply our convolutional layer, followed by our max-pool layer, and finally we flatten everything, resulting in a vector of 10 different log-odds values corresponding to our 10 digits."
      ]
    },
    {
      "cell_type": "code",
      "metadata": {
        "id": "dXS8_qFSBJBl"
      },
      "source": [
        "from tensorflow.keras.layers import Dense, Flatten, Conv2D, MaxPool2D\n",
        "from tensorflow.keras import Model\n",
        "\n",
        "class SimpleCNN(Model):\n",
        "    def __init__(self):\n",
        "        super(SimpleCNN, self).__init__()\n",
        "        self.conv1 = Conv2D(10, 28, use_bias=False)\n",
        "        self.mp1 = MaxPool2D(21)\n",
        "        self.flatten = Flatten()\n",
        "\n",
        "    def call(self, x):\n",
        "        x = x[..., tf.newaxis]\n",
        "        x = self.conv1(x)\n",
        "        x = self.mp1(x)\n",
        "        return self.flatten(x)"
      ],
      "execution_count": 7,
      "outputs": []
    },
    {
      "cell_type": "markdown",
      "metadata": {
        "id": "NJYOs_fQlv7K"
      },
      "source": [
        "We can then create an instance of our `SimpleCNN`, just as we did when using `LogisticRegression` or `MLPClassifier` in `sklearn`."
      ]
    },
    {
      "cell_type": "code",
      "metadata": {
        "id": "1JT6n8ZjTfSD"
      },
      "source": [
        "model = SimpleCNN()"
      ],
      "execution_count": 8,
      "outputs": []
    },
    {
      "cell_type": "markdown",
      "metadata": {
        "id": "5f6jkLM2l_Ee"
      },
      "source": [
        "There's one more step, and then we can start training the model.\n",
        "- First, we'll define a `loss_object` that will make it easy for us to calculate the cross-entropy loss based on (a) the model-predicted logits, and (b) the true labels in our training set.\n",
        "- Then, we'll need to define an optimizer that will determine exactly how our model's parameters should be altered based on the gradient of the loss, which Tensorflow will calculate automatically using `loss_object`."
      ]
    },
    {
      "cell_type": "code",
      "metadata": {
        "id": "QotAGwTRTd3S"
      },
      "source": [
        "loss_object = tf.keras.losses.SparseCategoricalCrossentropy(from_logits=True) # multi-class cross-entropy loss\n",
        "optimizer = tf.keras.optimizers.Adam() # modified stochastic gradient descent optimizer"
      ],
      "execution_count": 9,
      "outputs": []
    },
    {
      "cell_type": "markdown",
      "metadata": {
        "id": "-5PRlxAvBJBm"
      },
      "source": [
        "We're now ready to train. We'll loop over all the batches in our training set 3 times in a row (i.e. 3 EPOCHS). For each batch, we'll:\n",
        "1. apply our model to generate predictions for that batch\n",
        "2. calculate the loss based on those predictions\n",
        "3. calculate the gradient of the loss (i.e. how much does loss change in respose to changes in each parameter)\n",
        "4. use our optimizer to adjust the model parameters (i.e. `model.trainable_variables`) based on the gradient.\n",
        "- Note that `tf.GradientTape()` is just a quirk of Tensorflow that tells Tensorflow to watch the model parameters as it calculates the loss.\n",
        "\n",
        "**Important**: This code will be very slow unless you switch to a GPU runtime from the Colab menu. Even with this change, it'll still take a minute or two.\n",
        "- Runtime > Change runtime type"
      ]
    },
    {
      "cell_type": "code",
      "metadata": {
        "scrolled": false,
        "id": "DvYkMdHwBJBn",
        "outputId": "cb5de380-254c-44da-de52-15e219ab7fa6",
        "colab": {
          "base_uri": "https://localhost:8080/"
        }
      },
      "source": [
        "EPOCHS = 3\n",
        "\n",
        "for epoch in range(EPOCHS):\n",
        "  \n",
        "    for images, labels in train_ds:\n",
        "    \n",
        "        with tf.GradientTape() as tape:\n",
        "            predictions = model(images)\n",
        "            loss = loss_object(labels, predictions)\n",
        "    \n",
        "        gradients = tape.gradient(loss, model.trainable_variables)\n",
        "        optimizer.apply_gradients(zip(gradients, model.trainable_variables))\n",
        "        \n",
        "    print('Completed epoch', epoch)"
      ],
      "execution_count": 10,
      "outputs": [
        {
          "output_type": "stream",
          "name": "stdout",
          "text": [
            "Completed epoch 0\n",
            "Completed epoch 1\n",
            "Completed epoch 2\n"
          ]
        }
      ]
    },
    {
      "cell_type": "markdown",
      "metadata": {
        "id": "rP-mHKx7pFjT"
      },
      "source": [
        "Having trained our model, we can now evaluate its accuracy on the training set. This is very similar to code we've used before, but here we're calculating accuracy batch by batch, then averaging the results."
      ]
    },
    {
      "cell_type": "code",
      "metadata": {
        "id": "D9s2RUaYa-Kd",
        "outputId": "e95163c9-0898-434b-b310-7ce5e90b51c4",
        "colab": {
          "base_uri": "https://localhost:8080/"
        }
      },
      "source": [
        "accuracy = []\n",
        "\n",
        "for images, labels in test_ds:\n",
        "    \n",
        "    predicted_logits = model(images)\n",
        "    predicted_labels = np.argmax(predicted_logits, axis=1)\n",
        "    \n",
        "    batch_accuracy = np.mean(predicted_labels == labels)\n",
        "    accuracy.append(batch_accuracy)\n",
        "\n",
        "accuracy = np.mean(accuracy)\n",
        "print('The accuracy is %.3f' % accuracy)"
      ],
      "execution_count": 11,
      "outputs": [
        {
          "output_type": "stream",
          "name": "stdout",
          "text": [
            "The accuracy is 0.931\n"
          ]
        }
      ]
    },
    {
      "cell_type": "markdown",
      "metadata": {
        "id": "J2S9_qsVpmkh"
      },
      "source": [
        "## Exercise 2: Visualize the filters learned by the CNN\n",
        "The filters of the trained model can be accessed as an attribute of the `model.conv1` layer, as shown in the first line of the block below. `filters` will be an array of size (10, 28, 28) corresponding to the 10 filters -- one for each digit -- each of which is the same size (28 by 28) as the images. In the following block, you should plot and inspect these filters."
      ]
    },
    {
      "cell_type": "code",
      "metadata": {
        "id": "mj-cTTKEbhzd"
      },
      "source": [
        "filters = np.moveaxis(np.squeeze(model.conv1.get_weights()[0]), [0, 1, 2], [1, 2, 0])\n",
        "\n",
        "### PLOT EACH OF THE 10 28 by 28 FILTERS ###\n",
        "\n"
      ],
      "execution_count": 55,
      "outputs": []
    },
    {
      "cell_type": "markdown",
      "metadata": {
        "id": "dOiUVhscBJBp"
      },
      "source": [
        "## Exercise 3: A better CNN.\n",
        "\n",
        "The CNN we defined was interesting, but it's not very efficient. In short, 28 by 28 filters are too big, and although this architecture is good for illustrating translation invariance, its accuracy can be improved.\n",
        "\n",
        "In this exercise, you'll build a better CNN, train it, and evaluate it.\n",
        "- Create the model by following the prompts in the code block below.\n",
        "- Then, duplicate code blocks above to create an instance of `BetterCNN`, train it, and evaluate its performance on the test set.\n",
        "\n",
        "The following may also be interesting, though none is required:\n",
        "- visualize the learned filters in the convolutional layer\n",
        "- modify the architecture to see if performance can be further improved"
      ]
    },
    {
      "cell_type": "code",
      "metadata": {
        "id": "AGcHdYWeuOyI"
      },
      "source": [
        "class BetterCNN(Model):\n",
        "    def __init__(self):\n",
        "        super(BetterCNN, self).__init__()\n",
        "        ### DEFINE A CONVOLUTIONAL LAYER WITH 32 FILTERS OF SIZE 3 (i.e. 3x3) AND RELU ACTIVATION (i.e. activation='relu') ###\n",
        "        ### DEFINE A FLATTEN LAYER ###\n",
        "        ### DEFINE A DENSE LAYER WITH OUTPUT SIZE 128 AND RELU ACTIVATION (i.e. activation='relu') ###\n",
        "        ### DEFINE A DENSE LAYER WITH OUTPUT SIZE 10 AND NO ACTIVATION. THIS IS THE FINAL LAYER; OUTPUT WILL BE THE LOG-ODDS ###\n",
        "\n",
        "    def call(self, x):\n",
        "        x = x[..., tf.newaxis]\n",
        "        #x = ### APPLY CONVOLUTIONAL LAYER ###\n",
        "        #x = ### APPLY FLATTEN LAYER ###\n",
        "        #x = ### APPLY FIRST DENSE LAYER ###\n",
        "        #x = ### APPLY SECOND DENSE LAYER ###\n",
        "        return x"
      ],
      "execution_count": null,
      "outputs": []
    },
    {
      "cell_type": "markdown",
      "metadata": {
        "id": "Swp_ZOQ3BJBr"
      },
      "source": [
        "The following blocks, repeated from above, can now be used to train and evaluate `BetterCNN`."
      ]
    },
    {
      "cell_type": "code",
      "metadata": {
        "id": "Gxeo7qKiykwr"
      },
      "source": [
        "model = BetterCNN()"
      ],
      "execution_count": null,
      "outputs": []
    },
    {
      "cell_type": "code",
      "metadata": {
        "id": "dH92qMY6xfpu"
      },
      "source": [
        "EPOCHS = 5\n",
        "\n",
        "for epoch in range(EPOCHS):\n",
        "  \n",
        "    for images, labels in train_ds:\n",
        "    \n",
        "        with tf.GradientTape() as tape:\n",
        "            predictions = model(images)\n",
        "            loss = loss_object(labels, predictions)\n",
        "    \n",
        "        gradients = tape.gradient(loss, model.trainable_variables)\n",
        "        optimizer.apply_gradients(zip(gradients, model.trainable_variables))\n",
        "        \n",
        "    print('Completed epoch', epoch)"
      ],
      "execution_count": null,
      "outputs": []
    },
    {
      "cell_type": "code",
      "metadata": {
        "id": "4bhlkdalxjC7"
      },
      "source": [
        "accuracy = []\n",
        "\n",
        "for images, labels in test_ds:\n",
        "    \n",
        "    predicted_logits = model(images)\n",
        "    predicted_labels = np.argmax(predicted_logits, axis=1)\n",
        "    \n",
        "    batch_accuracy = np.mean(predicted_labels == labels)\n",
        "    accuracy.append(batch_accuracy)\n",
        "\n",
        "accuracy = np.mean(accuracy)\n",
        "print('The accuracy is %.3f' % accuracy)"
      ],
      "execution_count": null,
      "outputs": []
    },
    {
      "cell_type": "markdown",
      "metadata": {
        "id": "iesZQUopBJBs"
      },
      "source": [
        "### Once you've completed these exercises, please turn in the assignment as follows:\n",
        "\n",
        "If you're using Anaconda on your local machine:\n",
        "- download your notebook as html (see File > Download as > HTML (.html))\n",
        "- .zip the file (i.e. place it in a .zip archive)\n",
        "- submit the .zip file in Talent LMS\n",
        "\n",
        "If you're using Google Colab:\n",
        "- download your notebook as .ipynb (see File > Download > Download .ipynb)\n",
        "- if you have nbconvert installed, convert it to .html; if not, leave is as .ipynb\n",
        "- .zip the file (i.e. place it in a .zip archive)\n",
        "- submit the .zip file in Talent LMS"
      ]
    }
  ]
}